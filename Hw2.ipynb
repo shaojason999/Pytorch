{
 "cells": [
  {
   "cell_type": "markdown",
   "metadata": {},
   "source": [
    "# Pytorch homework\n",
    "## 作業說明\n",
    "這次的作業總共有5個部份，在每一個部份會有一些被註解框起來的區塊需要完成。\n",
    "1. Preparation: 我們會利用CIFAR-10 dataset **(10%)**\n",
    "2. Pytorch Module API: 在這邊我們會利用 nn.Module 建構出簡單的CNN（CNN架構請參照我們所提供） **(20%)**\n",
    "3. Pytorch ModuleList API: 在這邊我們 nn.ModuleList 以及 nn.Module來建構出簡單的CNN（CNN架構請參照我們所提供） **(20%)**\n",
    "4. Pytorch Sequential API: 在這邊我們 nn.Sequential 來建構出簡單的CNN（CNN架構請參照我們所提供） **(20%)**\n",
    "5. CIFAR-10 open-ended challenge: 在這邊請大家建構屬於自己的CNN，並且盡量的得到高準確度，並解釋如何建構的 **(30%)**\n",
    "    * 可以嘗試建構任意的layer, optimizer或是 hyperparameters等\n",
    "    * 由於並不是所有同學都有GPU可以提供training，因此這題分數的分配不是根據最後的準確度而給分，而是達到baseline之後便會給於全部的分數\n",
    "    * **Baseline: 65% on testing data**\n",
    "    \n",
    "## 作業繳交\n",
    "* Deadline : 11/06 中午12:00\n",
    "    * **遲交一天的打7折**\n",
    "    * **遲交一天以上的打5折**\n",
    "* 繳交方式 : 請繳交這個ipynb檔至moodle\n",
    "* 作業命名 : (你的學號)\\_(姓名)\\_hw2.ipynb  (ex.F71112222_人工智.ipynb) \n",
    "    * **格式不對的話會扣10分！！！**\n",
    "* 有任何問題歡迎寄信至我的信箱\n",
    "    * 黃顯堯 e0928021388@gmail.com\n"
   ]
  },
  {
   "cell_type": "markdown",
   "metadata": {},
   "source": [
    "## Part1 Preparation"
   ]
  },
  {
   "cell_type": "code",
   "execution_count": null,
   "metadata": {},
   "outputs": [],
   "source": [
    "import torch\n",
    "import torch.nn as nn\n",
    "import torch.nn.functional as F\n",
    "\n",
    "import torch.optim as optim\n",
    "from torch.utils.data import DataLoader\n",
    "from torch.utils.data.sampler import SubsetRandomSampler\n",
    "\n",
    "import torchvision.datasets as datasets\n",
    "import torchvision.transforms as transforms\n",
    "\n",
    "import numpy as np\n",
    "\n",
    "from torchviz import make_dot, make_dot_from_trace"
   ]
  },
  {
   "cell_type": "markdown",
   "metadata": {},
   "source": [
    "### Setting\n",
    "你可以根據需求調整epochs, batch size等等的參數"
   ]
  },
  {
   "cell_type": "code",
   "execution_count": null,
   "metadata": {},
   "outputs": [],
   "source": [
    "CIFAR_MEAN = [0.49139968, 0.48215827, 0.44653124]\n",
    "CIFAR_STD = [0.2023, 0.1994, 0.2010]\n",
    "\n",
    "EPOCHS = 5\n",
    "BATCH_SIZE = 64\n",
    "PRINT_FREQ = 100\n",
    "TRAIN_NUMS = 49000\n",
    "\n",
    "CUDA = True\n",
    "\n",
    "PATH_TO_SAVE_DATA = \"./\""
   ]
  },
  {
   "cell_type": "markdown",
   "metadata": {},
   "source": [
    "### Load CIFAR-10 dataset"
   ]
  },
  {
   "cell_type": "code",
   "execution_count": null,
   "metadata": {},
   "outputs": [],
   "source": [
    "data_transform = transforms.Compose([\n",
    "                      transforms.ToTensor(),\n",
    "                      transforms.Normalize(CIFAR_MEAN, CIFAR_STD)\n",
    "                  ])\n",
    "\n",
    "train_data = datasets.CIFAR10(root=PATH_TO_SAVE_DATA, train=True,\n",
    "                              download=True, transform=data_transform)\n",
    "train_loader = DataLoader(train_data, batch_size=BATCH_SIZE,\n",
    "                          sampler=SubsetRandomSampler(range(TRAIN_NUMS)))\n",
    "val_loader = DataLoader(train_data, batch_size=BATCH_SIZE,\n",
    "                        sampler=SubsetRandomSampler(range(TRAIN_NUMS, 50000)))\n",
    "\n",
    "\n",
    "\n",
    "test_data = datasets.CIFAR10(root=PATH_TO_SAVE_DATA, train=False,\n",
    "                             download=True, transform=data_transform)\n",
    "test_loader = DataLoader(test_data, batch_size=BATCH_SIZE)"
   ]
  },
  {
   "cell_type": "markdown",
   "metadata": {},
   "source": [
    "### GPU setting\n",
    "可以根據選擇是否要使用gpu，在本次的作業沒有一定要使用到gpu，假如你沒有安裝cuda，torch.cuda.is_available會return False"
   ]
  },
  {
   "cell_type": "code",
   "execution_count": null,
   "metadata": {},
   "outputs": [],
   "source": [
    "if CUDA:\n",
    "    device = torch.device(\"cuda\" if torch.cuda.is_available() else \"cpu\")\n",
    "else:\n",
    "    device = torch.device(\"cpu\")\n",
    "print(device)"
   ]
  },
  {
   "cell_type": "markdown",
   "metadata": {},
   "source": [
    "### Trainer\n",
    "我們有提供Trainer讓同學可以training自己建構的model"
   ]
  },
  {
   "cell_type": "code",
   "execution_count": null,
   "metadata": {},
   "outputs": [],
   "source": [
    "class Trainer:\n",
    "    def __init__(self, criterion, optimizer, device):\n",
    "        self.criterion = criterion\n",
    "        self.optimizer = optimizer\n",
    "        \n",
    "        self.device = device\n",
    "        \n",
    "    def train_loop(self, model, train_loader, val_loader):\n",
    "        for epoch in range(EPOCHS):\n",
    "            print(\"---------------- Epoch {} ----------------\".format(epoch))\n",
    "            self._training_step(model, train_loader, epoch)\n",
    "            \n",
    "            self._validate(model, val_loader, epoch)\n",
    "    \n",
    "    def test(self, model, test_loader):\n",
    "            print(\"---------------- Testing ----------------\")\n",
    "            self._validate(model, test_loader, 0, state=\"Testing\")\n",
    "            \n",
    "    def _training_step(self, model, loader, epoch):\n",
    "        model.train()\n",
    "        \n",
    "        for step, (X, y) in enumerate(loader):\n",
    "            X, y = X.to(self.device), y.to(self.device)\n",
    "            N = X.shape[0]\n",
    "            \n",
    "            self.optimizer.zero_grad()\n",
    "            outs = model(X)\n",
    "            loss = self.criterion(outs, y)\n",
    "            \n",
    "            if step >= 0 and (step % PRINT_FREQ == 0):\n",
    "                self._state_logging(outs, y, loss, step, epoch, \"Training\")\n",
    "            \n",
    "            loss.backward()\n",
    "            self.optimizer.step()\n",
    "            \n",
    "    def _validate(self, model, loader, epoch, state=\"Validate\"):\n",
    "        model.eval()\n",
    "        outs_list = []\n",
    "        loss_list = []\n",
    "        y_list = []\n",
    "        \n",
    "        with torch.no_grad():\n",
    "            for step, (X, y) in enumerate(loader):\n",
    "                X, y = X.to(self.device), y.to(self.device)\n",
    "                N = X.shape[0]\n",
    "                \n",
    "                outs = model(X)\n",
    "                loss = self.criterion(outs, y)\n",
    "                \n",
    "                y_list.append(y)\n",
    "                outs_list.append(outs)\n",
    "                loss_list.append(loss)\n",
    "            \n",
    "            y = torch.cat(y_list)\n",
    "            outs = torch.cat(outs_list)\n",
    "            loss = torch.mean(torch.stack(loss_list), dim=0)\n",
    "            self._state_logging(outs, y, loss, step, epoch, state)\n",
    "                \n",
    "                \n",
    "    def _state_logging(self, outs, y, loss, step, epoch, state):\n",
    "        acc = self._accuracy(outs, y)\n",
    "        print(\"[{:3d}/{}] {} Step {:03d} Loss {:.3f} Acc {:.3f}\".format(epoch+1, EPOCHS, state, step, loss, acc))\n",
    "            \n",
    "    def _accuracy(self, output, target):\n",
    "        batch_size = target.size(0)\n",
    "\n",
    "        pred = output.argmax(1)\n",
    "        correct = pred.eq(target)\n",
    "        acc = correct.float().sum(0) / batch_size\n",
    "\n",
    "        return acc"
   ]
  },
  {
   "cell_type": "markdown",
   "metadata": {},
   "source": [
    "### Flatten"
   ]
  },
  {
   "cell_type": "code",
   "execution_count": null,
   "metadata": {},
   "outputs": [],
   "source": [
    "def flatten(x):\n",
    "    ###############################################################################\n",
    "    #                   TODO : Read the input in (N, C, W, H)                     #\n",
    "    #                          \"Flatten\" into (N, C*W*H)                          #                   \n",
    "    ###############################################################################\n",
    "\n",
    "    ###############################################################################\n",
    "    #                            END TO DO                                        #\n",
    "    ###############################################################################\n",
    "    \n",
    "    return x\n",
    "\n",
    "def test_flatten():\n",
    "    x = torch.zeros((10, 3, 32, 32))\n",
    "    print(\"Before flattening:\", x.shape)\n",
    "    print(\"After flattening:\", flatten(x).shape) # Expected output (10, 3072) \n",
    "    \n",
    "test_flatten()"
   ]
  },
  {
   "cell_type": "markdown",
   "metadata": {},
   "source": [
    "## Part2 : Module API\n",
    "In this part, you have to complete the implentation of CNN with Module API.\n",
    "The network should have the following architectures.\n",
    "1. A convolution layer with 16 3\\*3 filters, with stride 2\n",
    "2. ReLU\n",
    "3. A convolution layer with 32 3\\*3 filters, with stride 2\n",
    "4. ReLU\n",
    "5. Flatten\n",
    "6. A fully-connected layer produce tensor to 200 \n",
    "7. ReLU\n",
    "8. A fully-connected layer produce score to 10 (classes)\n",
    "![](./resource/model_architecture.png)"
   ]
  },
  {
   "cell_type": "code",
   "execution_count": null,
   "metadata": {},
   "outputs": [],
   "source": [
    "class CNN(nn.Module):\n",
    "    def __init__(self):\n",
    "        super().__init__()\n",
    "        self.conv1, self.conv2 = None, None\n",
    "        self.fc1, self.fc2 = None, None\n",
    "        ###############################################################################\n",
    "        #       TODO : Set up the layer that you need to construct the model          #\n",
    "        ###############################################################################\n",
    "\n",
    "        ###############################################################################\n",
    "        #                            END TO DO                                        #\n",
    "        ###############################################################################\n",
    "        \n",
    "        \n",
    "    def forward(self, x):\n",
    "        out = None\n",
    "        ###############################################################################\n",
    "        #            TODO : Implement the forward function. You should use            #\n",
    "        #                   the layers you defined in __init__ and specify the        #\n",
    "        #                   connectivity of those layers in forward()                 #\n",
    "        ###############################################################################\n",
    "\n",
    "        ###############################################################################\n",
    "        #                            END TO DO                                        #\n",
    "        ###############################################################################        \n",
    "\n",
    "        return out\n",
    "        \n",
    "\n",
    "model = CNN()\n",
    "x = torch.zeros((BATCH_SIZE, 3, 32, 32))\n",
    "make_dot(model(x), params=dict(model.named_parameters())) # You can check if the picture is the same \n",
    "                                                          # as previous picture"
   ]
  },
  {
   "cell_type": "markdown",
   "metadata": {},
   "source": [
    "### Train the model\n",
    "Train the model and check the accuracy of training dataset and validation set"
   ]
  },
  {
   "cell_type": "code",
   "execution_count": null,
   "metadata": {},
   "outputs": [],
   "source": [
    "criterion = nn.CrossEntropyLoss()\n",
    "optimizer = torch.optim.SGD(params=model.parameters(),lr=1e-3, momentum=0.9)\n",
    "trainer = Trainer(criterion, optimizer, device)\n",
    "trainer.train_loop(model, train_loader, val_loader)\n",
    "trainer.test(model, test_loader)"
   ]
  },
  {
   "cell_type": "markdown",
   "metadata": {},
   "source": [
    "## Part3 ModuleList API\n",
    "In this part, you have to complete the implentation of CNN with ModuleList API and Module API.\n",
    "The network should have the following architectures.\n",
    "1. A convolution layer with 16 3\\*3 filters, with stride 2\n",
    "2. ReLU\n",
    "3. A convolution layer with 32 3\\*3 filters, with stride 2\n",
    "4. ReLU\n",
    "5. Flatten\n",
    "6. A fully-connected layer produce tensor to 200 \n",
    "7. ReLU\n",
    "8. A fully-connected layer produce score to 10 (classes)\n",
    "![](./resource/model_architecture.png)"
   ]
  },
  {
   "cell_type": "code",
   "execution_count": null,
   "metadata": {},
   "outputs": [],
   "source": [
    "class ML(nn.Module):\n",
    "    def __init__(self):\n",
    "        super().__init__()\n",
    "        self.convs, self.fcs = nn.ModuleList(), nn.ModuleList()\n",
    "        ###############################################################################\n",
    "        #       TODO : Set up the layer that you need to construct the model          #\n",
    "        ###############################################################################        \n",
    "\n",
    "        ###############################################################################\n",
    "        #                            END TO DO                                        #\n",
    "        ############################################################################### \n",
    "        \n",
    "    def forward(self, x):\n",
    "        out = None\n",
    "        ###############################################################################\n",
    "        #            TODO : Implement the forward function. You should use            #\n",
    "        #                   the layers you defined in __init__ and specify the        #\n",
    "        #                   connectivity of those layers in forward()                 #\n",
    "        ###############################################################################          \n",
    "\n",
    "        ###############################################################################\n",
    "        #                            END TO DO                                        #\n",
    "        ###############################################################################             \n",
    "        return out\n",
    "    \n",
    "model = ML()\n",
    "x = torch.zeros((BATCH_SIZE, 3, 32, 32))\n",
    "make_dot(model(x), params=dict(model.named_parameters())) # You can check if the picture is the same \n",
    "                                                          # as previous picture"
   ]
  },
  {
   "cell_type": "markdown",
   "metadata": {},
   "source": [
    "### Train the model\n",
    "Train the model and check the accuracy of training dataset and validation set"
   ]
  },
  {
   "cell_type": "code",
   "execution_count": null,
   "metadata": {},
   "outputs": [],
   "source": [
    "criterion = nn.CrossEntropyLoss()\n",
    "optimizer = torch.optim.SGD(params=model.parameters(),lr=1e-3, momentum=0.9)\n",
    "trainer = Trainer(criterion, optimizer, device)\n",
    "trainer.train_loop(model, train_loader, val_loader)\n",
    "trainer.test(model, test_loader)"
   ]
  },
  {
   "cell_type": "markdown",
   "metadata": {},
   "source": [
    "## Part4 Sequential\n",
    "In this part, you have to complete the implentation of CNN with Sequential API.\n",
    "The network should have the following architectures.\n",
    "1. A convolution layer with 16 3\\*3 filters, with stride 2\n",
    "2. ReLU\n",
    "3. A convolution layer with 32 3\\*3 filters, with stride 2\n",
    "4. ReLU\n",
    "5. Flatten\n",
    "6. A fully-connected layer produce tensor to 200 \n",
    "7. ReLU\n",
    "8. A fully-connected layer produce score to 10 (classes)\n",
    "![](./resource/model_architecture.png)"
   ]
  },
  {
   "cell_type": "code",
   "execution_count": null,
   "metadata": {},
   "outputs": [],
   "source": [
    "class Flatten(nn.Module):\n",
    "    def forward(self, x):\n",
    "        return flatten(x)"
   ]
  },
  {
   "cell_type": "code",
   "execution_count": null,
   "metadata": {},
   "outputs": [],
   "source": [
    "model = None\n",
    "###############################################################################\n",
    "#            TODO : Implement the Sequential API to complete the model        #\n",
    "###############################################################################          \n",
    "       \n",
    "###############################################################################\n",
    "#                            END TO DO                                        #\n",
    "###############################################################################  \n",
    "\n",
    "\n",
    "x = torch.zeros((BATCH_SIZE, 3, 32, 32))\n",
    "make_dot(model(x), params=dict(model.named_parameters())) # You can check if the picture is the same \n",
    "                                                          # as previous picture"
   ]
  },
  {
   "cell_type": "markdown",
   "metadata": {},
   "source": [
    "### Train the model\n",
    "Train the model and check the accuracy of training dataset and validation set"
   ]
  },
  {
   "cell_type": "code",
   "execution_count": null,
   "metadata": {},
   "outputs": [],
   "source": [
    "criterion = nn.CrossEntropyLoss()\n",
    "optimizer = torch.optim.SGD(params=model.parameters(),lr=1e-3, momentum=0.9)\n",
    "trainer = Trainer(criterion, optimizer, device)\n",
    "trainer.train_loop(model, train_loader, val_loader)\n",
    "trainer.test(model, test_loader)"
   ]
  },
  {
   "cell_type": "markdown",
   "metadata": {},
   "source": [
    "## Part 5 CIFAR-10 open-ended challenge\n",
    "In this section, you can experiment with whatever ConvNet architecture you'd like on CIFAR-10\n",
    "### Baseline : 65% on Testing data!!!"
   ]
  },
  {
   "cell_type": "code",
   "execution_count": null,
   "metadata": {},
   "outputs": [],
   "source": [
    "model = None\n",
    "optimizer = None\n",
    "###############################################################################\n",
    "#                               TODO                                          #\n",
    "###############################################################################          \n",
    "\n",
    "###############################################################################\n",
    "#                            END TO DO                                        #\n",
    "###############################################################################  \n",
    "\n",
    "\n",
    "\n",
    "# criterion = nn.CrossEntropyLoss()\n",
    "# optimizer = torch.optim.SGD(params=model.parameters(),lr=1e-3, momentum=0.9)\n",
    "# trainer = Trainer(criterion, optimizer, device)\n",
    "# trainer.train_loop(model, train_loader, val_loader)\n",
    "# trainer.test(model, test_loader)"
   ]
  },
  {
   "cell_type": "markdown",
   "metadata": {},
   "source": [
    "### 請解釋你如何建構的"
   ]
  },
  {
   "cell_type": "markdown",
   "metadata": {},
   "source": [
    "--寫在這裡--"
   ]
  }
 ],
 "metadata": {
  "kernelspec": {
   "display_name": "Python 3",
   "language": "python",
   "name": "python3"
  },
  "language_info": {
   "codemirror_mode": {
    "name": "ipython",
    "version": 3
   },
   "file_extension": ".py",
   "mimetype": "text/x-python",
   "name": "python",
   "nbconvert_exporter": "python",
   "pygments_lexer": "ipython3",
   "version": "3.6.8"
  }
 },
 "nbformat": 4,
 "nbformat_minor": 2
}
